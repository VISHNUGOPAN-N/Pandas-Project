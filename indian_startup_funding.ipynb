{
  "cells": [
    {
      "cell_type": "markdown",
      "metadata": {
        "id": "FrIIq_yl7NP0"
      },
      "source": [
        "## **Indian Startup Funding** Analysis using (Pandas)\n",
        "\n",
        "INTRODUCTION\n",
        "\n",
        "Overview\n",
        "This dataset provides a comprehensive view of funding activities within the Indian startup ecosystem between 2016 and 2020. It highlights the dynamic growth and the significant investment trends that have shaped India's entrepreneurial landscape during these years.\n",
        "The dataset has been sourced from Kaggle.\n",
        "The dataset captures key details about startups, including their funding amount, industries, investors, and locations. It is an essential resource of understanding how different sectors, geographies, and  funding types influence startup success in India.\n",
        "\n",
        "1.\t  Sr No: Unique identifier for each entry.\n",
        "2.\t  Date: The date when the funding round occurred.\n",
        "3.\t  Startup Name: Name of the funded startup.\n",
        "4.\t  Industry Vertical: Sector or domain in which the startup operates.\n",
        "5.\t  SubVertical: Subsector specialization.\n",
        "6.\t  City Location: Primary city where the startup operates.\n",
        "7.\t  Investors Name: Names of the investors who participated in the funding round.\n",
        "8.\t  Investment Type: Type of investment (e.g., Seed Funding, Series A).\n",
        "9.\t  Amount in USD: The amount of funding received, in USD.\n",
        "10.\t  Remarks: Additional notes or details about the funding round.\n",
        "\n",
        "\n"
      ]
    },
    {
      "cell_type": "code",
      "execution_count": 13,
      "metadata": {
        "id": "iqLWgWZWPdLf"
      },
      "outputs": [],
      "source": [
        "import pandas as pd\n",
        "import numpy as np"
      ]
    },
    {
      "cell_type": "markdown",
      "metadata": {
        "id": "ppSzmKHdQ58a"
      },
      "source": [
        "**Data collection: I collected this dataset from kaggle.**"
      ]
    },
    {
      "cell_type": "code",
      "execution_count": 14,
      "metadata": {
        "id": "Pf_1d56XU3bE"
      },
      "outputs": [],
      "source": [
        "df=pd.read_csv(\"startup_funding.csv\")"
      ]
    },
    {
      "cell_type": "markdown",
      "metadata": {
        "id": "eKkAJACpQ_xT"
      },
      "source": [
        "**Understanding the data.**"
      ]
    },
    {
      "cell_type": "code",
      "execution_count": 15,
      "metadata": {
        "colab": {
          "base_uri": "https://localhost:8080/"
        },
        "id": "GJa-z9o0hW3e",
        "outputId": "60c6027e-caa6-4b25-cda2-d5f3e7ef0446"
      },
      "outputs": [
        {
          "name": "stdout",
          "output_type": "stream",
          "text": [
            "<class 'pandas.core.frame.DataFrame'>\n",
            "RangeIndex: 3044 entries, 0 to 3043\n",
            "Data columns (total 10 columns):\n",
            " #   Column             Non-Null Count  Dtype \n",
            "---  ------             --------------  ----- \n",
            " 0   Sr No              3044 non-null   int64 \n",
            " 1   Date dd/mm/yyyy    3044 non-null   object\n",
            " 2   Startup Name       3044 non-null   object\n",
            " 3   Industry Vertical  2873 non-null   object\n",
            " 4   SubVertical        2108 non-null   object\n",
            " 5   City  Location     2864 non-null   object\n",
            " 6   Investors Name     3020 non-null   object\n",
            " 7   InvestmentnType    3040 non-null   object\n",
            " 8   Amount in USD      2084 non-null   object\n",
            " 9   Remarks            419 non-null    object\n",
            "dtypes: int64(1), object(9)\n",
            "memory usage: 237.9+ KB\n"
          ]
        }
      ],
      "source": [
        "df.info()"
      ]
    },
    {
      "cell_type": "code",
      "execution_count": 16,
      "metadata": {
        "colab": {
          "base_uri": "https://localhost:8080/",
          "height": 394
        },
        "id": "X4Zwv8jfhZ5z",
        "outputId": "e3d14c01-44bc-48c0-b478-af888d195c50"
      },
      "outputs": [
        {
          "data": {
            "text/html": [
              "<div>\n",
              "<style scoped>\n",
              "    .dataframe tbody tr th:only-of-type {\n",
              "        vertical-align: middle;\n",
              "    }\n",
              "\n",
              "    .dataframe tbody tr th {\n",
              "        vertical-align: top;\n",
              "    }\n",
              "\n",
              "    .dataframe thead th {\n",
              "        text-align: right;\n",
              "    }\n",
              "</style>\n",
              "<table border=\"1\" class=\"dataframe\">\n",
              "  <thead>\n",
              "    <tr style=\"text-align: right;\">\n",
              "      <th></th>\n",
              "      <th>Sr No</th>\n",
              "      <th>Date dd/mm/yyyy</th>\n",
              "      <th>Startup Name</th>\n",
              "      <th>Industry Vertical</th>\n",
              "      <th>SubVertical</th>\n",
              "      <th>City  Location</th>\n",
              "      <th>Investors Name</th>\n",
              "      <th>InvestmentnType</th>\n",
              "      <th>Amount in USD</th>\n",
              "      <th>Remarks</th>\n",
              "    </tr>\n",
              "  </thead>\n",
              "  <tbody>\n",
              "    <tr>\n",
              "      <th>count</th>\n",
              "      <td>3044.000000</td>\n",
              "      <td>3044</td>\n",
              "      <td>3044</td>\n",
              "      <td>2873</td>\n",
              "      <td>2108</td>\n",
              "      <td>2864</td>\n",
              "      <td>3020</td>\n",
              "      <td>3040</td>\n",
              "      <td>2084</td>\n",
              "      <td>419</td>\n",
              "    </tr>\n",
              "    <tr>\n",
              "      <th>unique</th>\n",
              "      <td>NaN</td>\n",
              "      <td>1035</td>\n",
              "      <td>2459</td>\n",
              "      <td>821</td>\n",
              "      <td>1942</td>\n",
              "      <td>112</td>\n",
              "      <td>2412</td>\n",
              "      <td>55</td>\n",
              "      <td>471</td>\n",
              "      <td>72</td>\n",
              "    </tr>\n",
              "    <tr>\n",
              "      <th>top</th>\n",
              "      <td>NaN</td>\n",
              "      <td>02-02-2015</td>\n",
              "      <td>Ola Cabs</td>\n",
              "      <td>Consumer Internet</td>\n",
              "      <td>Online Lending Platform</td>\n",
              "      <td>Bangalore</td>\n",
              "      <td>Undisclosed Investors</td>\n",
              "      <td>Private Equity</td>\n",
              "      <td>10,00,000</td>\n",
              "      <td>Series A</td>\n",
              "    </tr>\n",
              "    <tr>\n",
              "      <th>freq</th>\n",
              "      <td>NaN</td>\n",
              "      <td>11</td>\n",
              "      <td>8</td>\n",
              "      <td>941</td>\n",
              "      <td>11</td>\n",
              "      <td>700</td>\n",
              "      <td>39</td>\n",
              "      <td>1356</td>\n",
              "      <td>165</td>\n",
              "      <td>175</td>\n",
              "    </tr>\n",
              "    <tr>\n",
              "      <th>mean</th>\n",
              "      <td>1522.500000</td>\n",
              "      <td>NaN</td>\n",
              "      <td>NaN</td>\n",
              "      <td>NaN</td>\n",
              "      <td>NaN</td>\n",
              "      <td>NaN</td>\n",
              "      <td>NaN</td>\n",
              "      <td>NaN</td>\n",
              "      <td>NaN</td>\n",
              "      <td>NaN</td>\n",
              "    </tr>\n",
              "    <tr>\n",
              "      <th>std</th>\n",
              "      <td>878.871435</td>\n",
              "      <td>NaN</td>\n",
              "      <td>NaN</td>\n",
              "      <td>NaN</td>\n",
              "      <td>NaN</td>\n",
              "      <td>NaN</td>\n",
              "      <td>NaN</td>\n",
              "      <td>NaN</td>\n",
              "      <td>NaN</td>\n",
              "      <td>NaN</td>\n",
              "    </tr>\n",
              "    <tr>\n",
              "      <th>min</th>\n",
              "      <td>1.000000</td>\n",
              "      <td>NaN</td>\n",
              "      <td>NaN</td>\n",
              "      <td>NaN</td>\n",
              "      <td>NaN</td>\n",
              "      <td>NaN</td>\n",
              "      <td>NaN</td>\n",
              "      <td>NaN</td>\n",
              "      <td>NaN</td>\n",
              "      <td>NaN</td>\n",
              "    </tr>\n",
              "    <tr>\n",
              "      <th>25%</th>\n",
              "      <td>761.750000</td>\n",
              "      <td>NaN</td>\n",
              "      <td>NaN</td>\n",
              "      <td>NaN</td>\n",
              "      <td>NaN</td>\n",
              "      <td>NaN</td>\n",
              "      <td>NaN</td>\n",
              "      <td>NaN</td>\n",
              "      <td>NaN</td>\n",
              "      <td>NaN</td>\n",
              "    </tr>\n",
              "    <tr>\n",
              "      <th>50%</th>\n",
              "      <td>1522.500000</td>\n",
              "      <td>NaN</td>\n",
              "      <td>NaN</td>\n",
              "      <td>NaN</td>\n",
              "      <td>NaN</td>\n",
              "      <td>NaN</td>\n",
              "      <td>NaN</td>\n",
              "      <td>NaN</td>\n",
              "      <td>NaN</td>\n",
              "      <td>NaN</td>\n",
              "    </tr>\n",
              "    <tr>\n",
              "      <th>75%</th>\n",
              "      <td>2283.250000</td>\n",
              "      <td>NaN</td>\n",
              "      <td>NaN</td>\n",
              "      <td>NaN</td>\n",
              "      <td>NaN</td>\n",
              "      <td>NaN</td>\n",
              "      <td>NaN</td>\n",
              "      <td>NaN</td>\n",
              "      <td>NaN</td>\n",
              "      <td>NaN</td>\n",
              "    </tr>\n",
              "    <tr>\n",
              "      <th>max</th>\n",
              "      <td>3044.000000</td>\n",
              "      <td>NaN</td>\n",
              "      <td>NaN</td>\n",
              "      <td>NaN</td>\n",
              "      <td>NaN</td>\n",
              "      <td>NaN</td>\n",
              "      <td>NaN</td>\n",
              "      <td>NaN</td>\n",
              "      <td>NaN</td>\n",
              "      <td>NaN</td>\n",
              "    </tr>\n",
              "  </tbody>\n",
              "</table>\n",
              "</div>"
            ],
            "text/plain": [
              "              Sr No Date dd/mm/yyyy Startup Name  Industry Vertical  \\\n",
              "count   3044.000000            3044         3044               2873   \n",
              "unique          NaN            1035         2459                821   \n",
              "top             NaN      02-02-2015     Ola Cabs  Consumer Internet   \n",
              "freq            NaN              11            8                941   \n",
              "mean    1522.500000             NaN          NaN                NaN   \n",
              "std      878.871435             NaN          NaN                NaN   \n",
              "min        1.000000             NaN          NaN                NaN   \n",
              "25%      761.750000             NaN          NaN                NaN   \n",
              "50%     1522.500000             NaN          NaN                NaN   \n",
              "75%     2283.250000             NaN          NaN                NaN   \n",
              "max     3044.000000             NaN          NaN                NaN   \n",
              "\n",
              "                    SubVertical City  Location         Investors Name  \\\n",
              "count                      2108           2864                   3020   \n",
              "unique                     1942            112                   2412   \n",
              "top     Online Lending Platform      Bangalore  Undisclosed Investors   \n",
              "freq                         11            700                     39   \n",
              "mean                        NaN            NaN                    NaN   \n",
              "std                         NaN            NaN                    NaN   \n",
              "min                         NaN            NaN                    NaN   \n",
              "25%                         NaN            NaN                    NaN   \n",
              "50%                         NaN            NaN                    NaN   \n",
              "75%                         NaN            NaN                    NaN   \n",
              "max                         NaN            NaN                    NaN   \n",
              "\n",
              "       InvestmentnType Amount in USD   Remarks  \n",
              "count             3040          2084       419  \n",
              "unique              55           471        72  \n",
              "top     Private Equity     10,00,000  Series A  \n",
              "freq              1356           165       175  \n",
              "mean               NaN           NaN       NaN  \n",
              "std                NaN           NaN       NaN  \n",
              "min                NaN           NaN       NaN  \n",
              "25%                NaN           NaN       NaN  \n",
              "50%                NaN           NaN       NaN  \n",
              "75%                NaN           NaN       NaN  \n",
              "max                NaN           NaN       NaN  "
            ]
          },
          "execution_count": 16,
          "metadata": {},
          "output_type": "execute_result"
        }
      ],
      "source": [
        "df.describe(include=\"all\") # before data cleaning there is only one numerical column.\n"
      ]
    },
    {
      "cell_type": "code",
      "execution_count": 17,
      "metadata": {
        "colab": {
          "base_uri": "https://localhost:8080/",
          "height": 293
        },
        "id": "5EYrLr9WLPQl",
        "outputId": "7e29f8c4-ecd4-46ef-fe97-afb50ed3fcff"
      },
      "outputs": [
        {
          "data": {
            "text/html": [
              "<div>\n",
              "<style scoped>\n",
              "    .dataframe tbody tr th:only-of-type {\n",
              "        vertical-align: middle;\n",
              "    }\n",
              "\n",
              "    .dataframe tbody tr th {\n",
              "        vertical-align: top;\n",
              "    }\n",
              "\n",
              "    .dataframe thead th {\n",
              "        text-align: right;\n",
              "    }\n",
              "</style>\n",
              "<table border=\"1\" class=\"dataframe\">\n",
              "  <thead>\n",
              "    <tr style=\"text-align: right;\">\n",
              "      <th></th>\n",
              "      <th>Sr No</th>\n",
              "      <th>Date dd/mm/yyyy</th>\n",
              "      <th>Startup Name</th>\n",
              "      <th>Industry Vertical</th>\n",
              "      <th>SubVertical</th>\n",
              "      <th>City  Location</th>\n",
              "      <th>Investors Name</th>\n",
              "      <th>InvestmentnType</th>\n",
              "      <th>Amount in USD</th>\n",
              "      <th>Remarks</th>\n",
              "    </tr>\n",
              "  </thead>\n",
              "  <tbody>\n",
              "    <tr>\n",
              "      <th>0</th>\n",
              "      <td>1</td>\n",
              "      <td>09-01-2020</td>\n",
              "      <td>BYJU’S</td>\n",
              "      <td>E-Tech</td>\n",
              "      <td>E-learning</td>\n",
              "      <td>Bengaluru</td>\n",
              "      <td>Tiger Global Management</td>\n",
              "      <td>Private Equity Round</td>\n",
              "      <td>20,00,00,000</td>\n",
              "      <td>NaN</td>\n",
              "    </tr>\n",
              "    <tr>\n",
              "      <th>1</th>\n",
              "      <td>2</td>\n",
              "      <td>13-01-2020</td>\n",
              "      <td>Shuttl</td>\n",
              "      <td>Transportation</td>\n",
              "      <td>App based shuttle service</td>\n",
              "      <td>Gurgaon</td>\n",
              "      <td>Susquehanna Growth Equity</td>\n",
              "      <td>Series C</td>\n",
              "      <td>80,48,394</td>\n",
              "      <td>NaN</td>\n",
              "    </tr>\n",
              "    <tr>\n",
              "      <th>2</th>\n",
              "      <td>3</td>\n",
              "      <td>09-01-2020</td>\n",
              "      <td>Mamaearth</td>\n",
              "      <td>E-commerce</td>\n",
              "      <td>Retailer of baby and toddler products</td>\n",
              "      <td>Bengaluru</td>\n",
              "      <td>Sequoia Capital India</td>\n",
              "      <td>Series B</td>\n",
              "      <td>1,83,58,860</td>\n",
              "      <td>NaN</td>\n",
              "    </tr>\n",
              "    <tr>\n",
              "      <th>3</th>\n",
              "      <td>4</td>\n",
              "      <td>02-01-2020</td>\n",
              "      <td>https://www.wealthbucket.in/</td>\n",
              "      <td>FinTech</td>\n",
              "      <td>Online Investment</td>\n",
              "      <td>New Delhi</td>\n",
              "      <td>Vinod Khatumal</td>\n",
              "      <td>Pre-series A</td>\n",
              "      <td>30,00,000</td>\n",
              "      <td>NaN</td>\n",
              "    </tr>\n",
              "    <tr>\n",
              "      <th>4</th>\n",
              "      <td>5</td>\n",
              "      <td>02-01-2020</td>\n",
              "      <td>Fashor</td>\n",
              "      <td>Fashion and Apparel</td>\n",
              "      <td>Embroiled Clothes For Women</td>\n",
              "      <td>Mumbai</td>\n",
              "      <td>Sprout Venture Partners</td>\n",
              "      <td>Seed Round</td>\n",
              "      <td>18,00,000</td>\n",
              "      <td>NaN</td>\n",
              "    </tr>\n",
              "  </tbody>\n",
              "</table>\n",
              "</div>"
            ],
            "text/plain": [
              "   Sr No Date dd/mm/yyyy                  Startup Name    Industry Vertical  \\\n",
              "0      1      09-01-2020                        BYJU’S               E-Tech   \n",
              "1      2      13-01-2020                        Shuttl       Transportation   \n",
              "2      3      09-01-2020                     Mamaearth           E-commerce   \n",
              "3      4      02-01-2020  https://www.wealthbucket.in/              FinTech   \n",
              "4      5      02-01-2020                        Fashor  Fashion and Apparel   \n",
              "\n",
              "                             SubVertical City  Location  \\\n",
              "0                             E-learning      Bengaluru   \n",
              "1              App based shuttle service        Gurgaon   \n",
              "2  Retailer of baby and toddler products      Bengaluru   \n",
              "3                      Online Investment      New Delhi   \n",
              "4            Embroiled Clothes For Women         Mumbai   \n",
              "\n",
              "              Investors Name       InvestmentnType Amount in USD Remarks  \n",
              "0    Tiger Global Management  Private Equity Round  20,00,00,000     NaN  \n",
              "1  Susquehanna Growth Equity              Series C     80,48,394     NaN  \n",
              "2      Sequoia Capital India              Series B   1,83,58,860     NaN  \n",
              "3             Vinod Khatumal          Pre-series A     30,00,000     NaN  \n",
              "4    Sprout Venture Partners            Seed Round     18,00,000     NaN  "
            ]
          },
          "execution_count": 17,
          "metadata": {},
          "output_type": "execute_result"
        }
      ],
      "source": [
        "df.head()"
      ]
    },
    {
      "cell_type": "code",
      "execution_count": 18,
      "metadata": {
        "colab": {
          "base_uri": "https://localhost:8080/"
        },
        "id": "iCXM_-mgiHd3",
        "outputId": "ebb339df-430a-4182-e202-25a19d5f7150"
      },
      "outputs": [
        {
          "data": {
            "text/plain": [
              "Index(['Sr No', 'Date dd/mm/yyyy', 'Startup Name', 'Industry Vertical',\n",
              "       'SubVertical', 'City  Location', 'Investors Name', 'InvestmentnType',\n",
              "       'Amount in USD', 'Remarks'],\n",
              "      dtype='object')"
            ]
          },
          "execution_count": 18,
          "metadata": {},
          "output_type": "execute_result"
        }
      ],
      "source": [
        "df.columns\n",
        "# column names:- Sr No, Date, Startup Name, Industry Vertical, SubVertical, City Location Investors Name, INvestmentntype, Amount in USD, Remarks"
      ]
    },
    {
      "cell_type": "code",
      "execution_count": 19,
      "metadata": {
        "colab": {
          "base_uri": "https://localhost:8080/",
          "height": 397
        },
        "id": "r0SlTrpjiJg7",
        "outputId": "ec1f6f8a-4cba-49f1-92ff-300400331137"
      },
      "outputs": [
        {
          "data": {
            "text/plain": [
              "Sr No                 int64\n",
              "Date dd/mm/yyyy      object\n",
              "Startup Name         object\n",
              "Industry Vertical    object\n",
              "SubVertical          object\n",
              "City  Location       object\n",
              "Investors Name       object\n",
              "InvestmentnType      object\n",
              "Amount in USD        object\n",
              "Remarks              object\n",
              "dtype: object"
            ]
          },
          "execution_count": 19,
          "metadata": {},
          "output_type": "execute_result"
        }
      ],
      "source": [
        "df.dtypes # There are a total of 9 object columns and 1 numeric column before data cleaning and feature engineering."
      ]
    },
    {
      "cell_type": "code",
      "execution_count": 20,
      "metadata": {
        "colab": {
          "base_uri": "https://localhost:8080/"
        },
        "id": "cldZMl5siO5T",
        "outputId": "7eb7fc6c-5bf3-4917-fa0e-9d4056c3cebb"
      },
      "outputs": [
        {
          "name": "stdout",
          "output_type": "stream",
          "text": [
            "Rows:-3044 in total and Columns:-10 in total\n"
          ]
        }
      ],
      "source": [
        "df.shape\n",
        "rows=df.shape[0]\n",
        "columns=df.shape[1]\n",
        "print(f\"Rows:-{rows} in total and Columns:-{columns} in total\")"
      ]
    },
    {
      "cell_type": "markdown",
      "metadata": {
        "id": "fVfaPYwURHKZ"
      },
      "source": [
        "**Data cleaning.**\n"
      ]
    },
    {
      "cell_type": "code",
      "execution_count": 21,
      "metadata": {
        "colab": {
          "base_uri": "https://localhost:8080/"
        },
        "id": "j8BtW2qCRLDI",
        "outputId": "ba6babc7-f21c-45ef-a69d-654fd3fcc802"
      },
      "outputs": [
        {
          "data": {
            "text/plain": [
              "np.int64(0)"
            ]
          },
          "execution_count": 21,
          "metadata": {},
          "output_type": "execute_result"
        }
      ],
      "source": [
        "df.isna().sum()\n",
        "df.duplicated().sum()"
      ]
    },
    {
      "cell_type": "code",
      "execution_count": 22,
      "metadata": {
        "id": "3MfgJAlFiR7w"
      },
      "outputs": [],
      "source": [
        "df.drop(columns=['Sr No','Remarks'],inplace=True) # dropping unnecessary columns"
      ]
    },
    {
      "cell_type": "code",
      "execution_count": 23,
      "metadata": {
        "id": "divPnXnqiWeu"
      },
      "outputs": [],
      "source": [
        "# Renaming column names\n",
        "df.rename(columns={\n",
        "    'Date dd/mm/yyyy':'Date',\n",
        "    'Startup Name':'startups',\n",
        "    'Industry Vertical':'vertical',\n",
        "    'SubVertical':'subvertical',\n",
        "    'City  Location':'location',\n",
        "    'Investors Name':'investor',\n",
        "    'Amount in USD':'amount',\n",
        "    'InvestmentnType':'investment round'\n",
        "},inplace=True)"
      ]
    },
    {
      "cell_type": "code",
      "execution_count": 24,
      "metadata": {
        "colab": {
          "base_uri": "https://localhost:8080/"
        },
        "id": "vLlD1IE1ijiZ",
        "outputId": "baff1a24-ddb3-41e6-994b-c5f8586368a3"
      },
      "outputs": [
        {
          "data": {
            "text/plain": [
              "Index(['Date', 'startups', 'vertical', 'subvertical', 'location', 'investor',\n",
              "       'investment round', 'amount'],\n",
              "      dtype='object')"
            ]
          },
          "execution_count": 24,
          "metadata": {},
          "output_type": "execute_result"
        }
      ],
      "source": [
        "df.columns"
      ]
    },
    {
      "cell_type": "code",
      "execution_count": 25,
      "metadata": {
        "colab": {
          "base_uri": "https://localhost:8080/",
          "height": 335
        },
        "id": "L6qrxygWjieD",
        "outputId": "a82eb589-864e-4098-8492-34d3bfcc2936"
      },
      "outputs": [
        {
          "data": {
            "text/plain": [
              "Date                  0\n",
              "startups              0\n",
              "vertical            171\n",
              "subvertical         936\n",
              "location            180\n",
              "investor             24\n",
              "investment round      4\n",
              "amount              960\n",
              "dtype: int64"
            ]
          },
          "execution_count": 25,
          "metadata": {},
          "output_type": "execute_result"
        }
      ],
      "source": [
        "df.isna().sum()# There is a total of 7 columns having null values."
      ]
    },
    {
      "cell_type": "code",
      "execution_count": 26,
      "metadata": {
        "colab": {
          "base_uri": "https://localhost:8080/"
        },
        "id": "dXk3H4qhi_gM",
        "outputId": "0454da24-8c9f-4c15-cd55-b10f48e10bbe"
      },
      "outputs": [
        {
          "data": {
            "text/plain": [
              "np.int64(0)"
            ]
          },
          "execution_count": 26,
          "metadata": {},
          "output_type": "execute_result"
        }
      ],
      "source": [
        "df.duplicated().sum() # checkinng duplicate values"
      ]
    },
    {
      "cell_type": "code",
      "execution_count": 27,
      "metadata": {
        "id": "UEbk6NBaW0bL"
      },
      "outputs": [],
      "source": [
        "df[\"amount\"]=df[\"amount\"].fillna(\"0\")# filling null values to 0\n",
        "\n"
      ]
    },
    {
      "cell_type": "code",
      "execution_count": 28,
      "metadata": {
        "colab": {
          "base_uri": "https://localhost:8080/"
        },
        "id": "8jEXohG9jXjS",
        "outputId": "df0ef4e7-4593-47f4-a14a-fced8f6a7d6f"
      },
      "outputs": [
        {
          "data": {
            "text/plain": [
              "array(['20,00,00,000', '80,48,394', '1,83,58,860', '30,00,000',\n",
              "       '18,00,000', '90,00,000', '15,00,00,000', '60,00,000',\n",
              "       '7,00,00,000', '5,00,00,000', '2,00,00,000', '1,20,00,000',\n",
              "       '3,00,00,000', '59,00,000', '20,00,000', '23,10,00,000',\n",
              "       '4,86,000', '15,00,000', 'undisclosed', '2,60,00,000',\n",
              "       '1,74,11,265', '13,00,000', '13,50,00,000', '3,00,000',\n",
              "       '22,00,00,000', '1,58,00,000', '28,30,00,000', '1,00,00,00,000',\n",
              "       '4,50,00,000', '58,50,00,000', 'unknown', '45,00,000', '33,00,000',\n",
              "       '50,00,000', '1,80,00,000', '10,00,000', '1,00,00,000',\n",
              "       '45,00,00,000', '16,00,000', '14,00,00,000', '3,80,80,000',\n",
              "       '12,50,00,000', '1,10,00,000', '5,10,00,000', '3,70,00,000',\n",
              "       '5,00,000', '11,00,00,000', '1,50,00,000', '65,90,000',\n",
              "       'Undisclosed', '3,90,00,00,000', '1,90,00,000', '25,00,000',\n",
              "       '1,45,000', '6,00,00,000', '1,60,00,000', '57,50,000', '3,19,605',\n",
              "       '48,89,975.54', '7,50,00,000', '27,39,034.68', '1,51,09,500.00',\n",
              "       '4,30,200', '1,55,00,000', '5,20,00,000', '35,84,000', '34,00,000',\n",
              "       '8,68,600', '1,15,00,000', '56,00,000', '1,70,00,000', '4,30,665',\n",
              "       '35,91,375', '2,00,000', '35,00,000', '63,20,820', '24,43,495',\n",
              "       '3,07,000', '14,342,000+', '22,60,00,000', '6,00,000',\n",
              "       '10,00,00,000', '2,20,00,000', '7,00,000', '8,00,000', '5,72,000',\n",
              "       '1,43,000', '1,38,995', '2,77,99,000', '30,00,00,000', '2,78,000',\n",
              "       '3,10,00,000', '2,95,00,000', '4,20,00,000', '17,00,000', '0',\n",
              "       '82,00,000', '40,00,000', '1,46,80,000', '3,50,00,000',\n",
              "       '22,50,00,000', '63,90,000', '15,72,00,000', '3,20,00,000',\n",
              "       '55,00,000', '4,00,000', '70,00,000', '1,20,000', '1,22,00,000',\n",
              "       '6,60,00,000', '80,00,000', '1,14,811', '58,50,000', '48,00,000',\n",
              "       '1,42,70,000', '1,34,00,000', '42,00,000', '60,00,00,000',\n",
              "       '62,50,000', '2,77,00,000', '4,40,000', '11,00,000', '4,37,000',\n",
              "       '1,80,000', '1,75,000', '2,90,00,000', '4,97,00,000', '2,80,000',\n",
              "       '4,36,000', '12,50,000', '12,00,00,000', '1,25,000', '2,30,00,000',\n",
              "       '2,15,00,000', '1,48,00,000', '1,01,00,000', '3,000,00',\n",
              "       '4,50,000', '34,50,000', '2,10,00,000', '91,00,000', '89,50,000',\n",
              "       '2,25,000', '9,49,000', '2,40,00,000', '4200000', '7,35,000',\n",
              "       '2,93,000', '1,40,00,000', '13,000,00', '3,07,600', '5,50,00,000',\n",
              "       '1,50,000', '28,00,000', '1,000,000,', '46,140', '46,000,00',\n",
              "       '11,000,00', '19,00,000', '2,46,000', '75,00,000', '9,78,000',\n",
              "       '2,50,000', '21,00,000', '97,00,000', '76,00,000', '3,84,00,000',\n",
              "       '8,20,00,000', '1,72,00,000', '6,20,00,000', '13,10,000',\n",
              "       '7,68,000', '12,40,000', '5,35,000', '43,00,000', '31,00,000',\n",
              "       '68,30,000', '8,70,00,000', '9,35,089', '3,11,200', '1,35,00,000',\n",
              "       '1,00,000', '1,48,434', '62,30,000', '38,00,000', '7,72,500',\n",
              "       '10,40,000', '11,50,00,000', '14,00,000', '1,57,00,000',\n",
              "       '47,00,000', '19,30,000', '1,88,40,000', '2,35,00,000',\n",
              "       '3,62,30,000', '80,000', '3,54,600', '2,50,00,000', '1,82,00,000',\n",
              "       '32,00,000', '4,70,00,000', '86,00,000', '62,40,000', '74,00,000',\n",
              "       '44,00,000', '1,23,00,000', '7,50,000', '23,00,000', '50,000',\n",
              "       '12,00,000', '1,75,00,000', '2,33,000', '2,70,00,000', '72,00,000',\n",
              "       '5,37,000', '27,00,000', '95,00,000', '1,95,00,000', '5,70,000',\n",
              "       '36,00,000', '8,72,000', '82,50,000', '9,00,000', '6,92,000',\n",
              "       '3,29,230', '27,00,00,000', '39,000', '1,30,00,000', '13,50,000',\n",
              "       '3,06,000', '3,87,00,000', '92,00,000', '3,36,000', '2,35,000',\n",
              "       '7,70,00,000', '77,00,000', '1,18,000', '7,22,000', '5,50,000',\n",
              "       '1,07,50,000', '25,00,00,000', '7,80,000', '69,00,000',\n",
              "       '62,00,000', '4,40,00,000', '1,54,00,000', '4,22,000', '8,50,000',\n",
              "       '2,43,000', '2,20,000', '7,83,000', '2,50,00,00,000',\n",
              "       '3,60,00,000', '3,12,000', '3,85,000', '1,87,000', '68,00,000',\n",
              "       '7,34,000', '8,00,00,000', '3,40,00,000', '26,00,000', '85,00,000',\n",
              "       '22,50,000', '4,64,000', '1,85,00,000', '5,40,000', '2,34,000',\n",
              "       '6,50,000', '2,32,000', '3,50,000', '78,00,000', '7,76,000',\n",
              "       '1,25,00,000', '52,00,000', '24,00,000', '2,15,000', '46,00,000',\n",
              "       '7,10,00,000', '3,11,000', '7,37,00,000', '3,90,000',\n",
              "       '10,45,00,000', '4,66,000', '53,00,000', '1,40,00,00,000',\n",
              "       '66,00,000', '5,80,000', '4,00,00,000', '61,00,000', '36,90,000',\n",
              "       '26,00,00,000', '3,10,000', '6,20,000', '46,50,000', '1,55,000',\n",
              "       '63,00,000', '2,45,000', '33,00,00,000', '2,75,000', '67,00,000',\n",
              "       '17,90,000', '30,000', '36,50,000', '4,43,000', '33,50,000',\n",
              "       '36,70,000', '1,91,000', '5,60,00,000', '3,82,000', '3,25,000',\n",
              "       '40,000', '58,00,000', '3,30,000', '2,24,00,000', '65,00,000',\n",
              "       '1,52,00,000', '3,75,000', '94,000', '3,66,000', '8,25,000',\n",
              "       '5,70,00,000', '41,00,000', '4,41,000', '1,47,000', '22,00,000',\n",
              "       '88,00,000', '1,06,000', '22,500', '68,000', '18,000',\n",
              "       '1,11,00,000', '2,97,000', '1,23,000', '1,62,000', '3,24,000',\n",
              "       '45,000', '90,000', '9,63,000', '2,18,000', '37,50,000',\n",
              "       '10,50,000', '25,000', '2,27,000', '9,71,000', '3,15,000',\n",
              "       '6,70,000', '4,48,000', '3,13,00,000', '2,98,000', '4,25,000',\n",
              "       '7,45,000', '15,80,000', '8,90,000', '27,000', '4,45,000',\n",
              "       '2,09,000', '1,56,00,000', '17,50,00,000', '6,75,000', '1,49,000',\n",
              "       '1,04,000', '7,40,000', '19,50,000', '1,22,50,000', '10,70,000',\n",
              "       '5,95,000', '75,000', '2,10,000', '1,48,000', '2,95,000',\n",
              "       '3,68,000', '3,76,000', '27,50,000', '89,000', '4,75,000',\n",
              "       '89,00,000', '2,23,608', '1,49,00,000', '2,30,000', '1,08,000',\n",
              "       '3,60,000', '81,000', '52,000', '9,70,000', '73,000', '37,000',\n",
              "       '1,60,000', '70,000', '18,00,00,000', '54,00,000', '1,65,00,000',\n",
              "       '14,50,00,000', '2,40,000', '5,20,000', '5,15,000', '3,70,000',\n",
              "       '1,85,000', '51,50,000', '2,25,00,000', '3,03,000', '3,20,000',\n",
              "       '1,66,00,000', '4,60,000', '4,90,000', '37,00,000', '5,30,000',\n",
              "       '50,00,00,000', '4,55,000', '3,05,000', '1,10,000', '14,50,000',\n",
              "       '77,000', '1,90,000', '29,50,000', '15,30,000', '6,40,000',\n",
              "       '1,30,000', '2,60,000', '2,05,000', '7,70,000', '42,50,000',\n",
              "       '4,10,000', '11,50,000', '3,75,00,000', '17,50,000',\n",
              "       '68,00,00,000', '96,00,000', '7,85,000', '9,00,00,000', '6,30,000',\n",
              "       '6,30,00,000', '1,56,000', '1,61,000', '3,95,000', '20,000',\n",
              "       '4,70,000', '1,02,00,000', '\\\\\\\\xc2\\\\\\\\xa020,000,000',\n",
              "       '\\\\\\\\xc2\\\\\\\\xa016,200,000', '\\\\\\\\xc2\\\\\\\\xa0N/A',\n",
              "       '\\\\\\\\xc2\\\\\\\\xa0600,000', '\\\\\\\\xc2\\\\\\\\xa0685,000',\n",
              "       '\\\\\\\\xc2\\\\\\\\xa019,350,000', '\\\\\\\\xc2\\\\\\\\xa05,000,000',\n",
              "       '\\\\\\\\xc2\\\\\\\\xa010,000,000', '7,90,000', '48,50,000', '1,27,50,000',\n",
              "       '70,00,00,000', '1,68,000', '13,70,00,000', '1,40,000',\n",
              "       '8,50,00,000', '2,70,000', '6,25,000', '1,65,000', '40,00,00,000',\n",
              "       '2,80,00,000', '1,66,000', '1,15,000', '16,600', '5,18,000',\n",
              "       '41,50,000', '2,90,000', '21,50,000', '3,80,000', '1,35,000',\n",
              "       '2,85,000', '30,768', '16,000', '1,47,50,000', '32,50,000'],\n",
              "      dtype=object)"
            ]
          },
          "execution_count": 28,
          "metadata": {},
          "output_type": "execute_result"
        }
      ],
      "source": [
        "df[\"amount\"].unique()"
      ]
    },
    {
      "cell_type": "code",
      "execution_count": 29,
      "metadata": {
        "id": "k2vMt25Jjj0B"
      },
      "outputs": [],
      "source": [
        "df['amount']=df['amount'].str.replace(',','')\n",
        "df['amount']=df['amount'].str.replace('undisclosed','0')\n",
        "df['amount']=df['amount'].str.replace('unknown','0')\n",
        "df['amount']=df['amount'].str.replace('Undisclosed','0')"
      ]
    },
    {
      "cell_type": "code",
      "execution_count": 30,
      "metadata": {
        "id": "H64UTZuEjmC0"
      },
      "outputs": [],
      "source": [
        "df=df[df['amount'].str.isdigit()]"
      ]
    },
    {
      "cell_type": "code",
      "execution_count": 31,
      "metadata": {
        "colab": {
          "base_uri": "https://localhost:8080/"
        },
        "id": "CDsgEJLBjpR-",
        "outputId": "52cf1fed-488d-4ac4-a4ea-f953e5299f32"
      },
      "outputs": [],
      "source": [
        "df[\"amount\"]=df['amount'].astype(\"float\") # Changed the data type of \"amount\" column to float."
      ]
    },
    {
      "cell_type": "code",
      "execution_count": 32,
      "metadata": {
        "colab": {
          "base_uri": "https://localhost:8080/",
          "height": 335
        },
        "id": "rnw8rpK1jxjM",
        "outputId": "1e0647b7-3a65-4252-a196-dcaf3984a51e"
      },
      "outputs": [
        {
          "data": {
            "text/plain": [
              "Date                 object\n",
              "startups             object\n",
              "vertical             object\n",
              "subvertical          object\n",
              "location             object\n",
              "investor             object\n",
              "investment round     object\n",
              "amount              float64\n",
              "dtype: object"
            ]
          },
          "execution_count": 32,
          "metadata": {},
          "output_type": "execute_result"
        }
      ],
      "source": [
        "df.dtypes"
      ]
    },
    {
      "cell_type": "code",
      "execution_count": 33,
      "metadata": {
        "colab": {
          "base_uri": "https://localhost:8080/",
          "height": 458
        },
        "id": "pQTRpeBrjzyh",
        "outputId": "bfef0e32-024e-49a4-a9f3-a2210adb4b16"
      },
      "outputs": [
        {
          "data": {
            "text/plain": [
              "0       200000000.0\n",
              "1         8048394.0\n",
              "2        18358860.0\n",
              "3         3000000.0\n",
              "4         1800000.0\n",
              "           ...     \n",
              "3039      4500000.0\n",
              "3040       825000.0\n",
              "3041      1500000.0\n",
              "3042            0.0\n",
              "3043       140000.0\n",
              "Name: amount, Length: 3029, dtype: float64"
            ]
          },
          "execution_count": 33,
          "metadata": {},
          "output_type": "execute_result"
        }
      ],
      "source": [
        "df[\"amount\"]"
      ]
    },
    {
      "cell_type": "code",
      "execution_count": 34,
      "metadata": {
        "colab": {
          "base_uri": "https://localhost:8080/"
        },
        "id": "rTaM8bOFSFzB",
        "outputId": "145c776d-151d-48f5-b0df-e3223e2223bb"
      },
      "outputs": [
        {
          "data": {
            "text/plain": [
              "array(['09-01-2020', '13-01-2020', '02-01-2020', ..., '29-01-2015',\n",
              "       '30-01-2015', '31-01-2015'], dtype=object)"
            ]
          },
          "execution_count": 34,
          "metadata": {},
          "output_type": "execute_result"
        }
      ],
      "source": [
        "df[\"Date\"].unique()"
      ]
    },
    {
      "cell_type": "code",
      "execution_count": null,
      "metadata": {
        "id": "bBXjbP0IPSZq"
      },
      "outputs": [],
      "source": []
    },
    {
      "cell_type": "code",
      "execution_count": 35,
      "metadata": {
        "id": "GfMlFWdXj6XQ"
      },
      "outputs": [],
      "source": [
        "df['Date']=df['Date'].str.replace('05/072018','05/07/2018')\n",
        "df['Date']=df['Date'].str.replace('15-01-07 00:00:00','15/01/07')"
      ]
    },
    {
      "cell_type": "code",
      "execution_count": 36,
      "metadata": {
        "id": "5qveRnhYzEqG"
      },
      "outputs": [],
      "source": [
        "df['Date']=pd.to_datetime(df['Date'],errors='coerce')"
      ]
    },
    {
      "cell_type": "code",
      "execution_count": 37,
      "metadata": {
        "id": "EBRWmrFFzLx0"
      },
      "outputs": [],
      "source": [
        "# Rows with NaN value are dropped because too many rows provide irrelevant information.\n",
        "df.dropna(subset=['Date','location','subvertical',\n",
        "                  'vertical','investor',\n",
        "                  'investment round'],inplace=True)\n",
        "\n"
      ]
    },
    {
      "cell_type": "code",
      "execution_count": 38,
      "metadata": {
        "colab": {
          "base_uri": "https://localhost:8080/",
          "height": 335
        },
        "id": "4v-Zq77dzbcS",
        "outputId": "53a8661f-4874-4d38-e5ce-6d37f5fb286e"
      },
      "outputs": [
        {
          "data": {
            "text/plain": [
              "Date                0\n",
              "startups            0\n",
              "vertical            0\n",
              "subvertical         0\n",
              "location            0\n",
              "investor            0\n",
              "investment round    0\n",
              "amount              0\n",
              "dtype: int64"
            ]
          },
          "execution_count": 38,
          "metadata": {},
          "output_type": "execute_result"
        }
      ],
      "source": [
        "df.isna().sum()"
      ]
    },
    {
      "cell_type": "code",
      "execution_count": 39,
      "metadata": {
        "colab": {
          "base_uri": "https://localhost:8080/",
          "height": 597
        },
        "id": "Cl5j-pLvzloO",
        "outputId": "a6d4f9f5-80c4-41bc-eb91-ba9a8800afca"
      },
      "outputs": [
        {
          "data": {
            "text/html": [
              "<div>\n",
              "<style scoped>\n",
              "    .dataframe tbody tr th:only-of-type {\n",
              "        vertical-align: middle;\n",
              "    }\n",
              "\n",
              "    .dataframe tbody tr th {\n",
              "        vertical-align: top;\n",
              "    }\n",
              "\n",
              "    .dataframe thead th {\n",
              "        text-align: right;\n",
              "    }\n",
              "</style>\n",
              "<table border=\"1\" class=\"dataframe\">\n",
              "  <thead>\n",
              "    <tr style=\"text-align: right;\">\n",
              "      <th></th>\n",
              "      <th>Date</th>\n",
              "      <th>startups</th>\n",
              "      <th>vertical</th>\n",
              "      <th>subvertical</th>\n",
              "      <th>location</th>\n",
              "      <th>investor</th>\n",
              "      <th>investment round</th>\n",
              "      <th>amount</th>\n",
              "    </tr>\n",
              "  </thead>\n",
              "  <tbody>\n",
              "    <tr>\n",
              "      <th>0</th>\n",
              "      <td>2020-09-01</td>\n",
              "      <td>BYJU’S</td>\n",
              "      <td>E-Tech</td>\n",
              "      <td>E-learning</td>\n",
              "      <td>Bengaluru</td>\n",
              "      <td>Tiger Global Management</td>\n",
              "      <td>Private Equity Round</td>\n",
              "      <td>200000000.0</td>\n",
              "    </tr>\n",
              "    <tr>\n",
              "      <th>2</th>\n",
              "      <td>2020-09-01</td>\n",
              "      <td>Mamaearth</td>\n",
              "      <td>E-commerce</td>\n",
              "      <td>Retailer of baby and toddler products</td>\n",
              "      <td>Bengaluru</td>\n",
              "      <td>Sequoia Capital India</td>\n",
              "      <td>Series B</td>\n",
              "      <td>18358860.0</td>\n",
              "    </tr>\n",
              "    <tr>\n",
              "      <th>3</th>\n",
              "      <td>2020-02-01</td>\n",
              "      <td>https://www.wealthbucket.in/</td>\n",
              "      <td>FinTech</td>\n",
              "      <td>Online Investment</td>\n",
              "      <td>New Delhi</td>\n",
              "      <td>Vinod Khatumal</td>\n",
              "      <td>Pre-series A</td>\n",
              "      <td>3000000.0</td>\n",
              "    </tr>\n",
              "    <tr>\n",
              "      <th>4</th>\n",
              "      <td>2020-02-01</td>\n",
              "      <td>Fashor</td>\n",
              "      <td>Fashion and Apparel</td>\n",
              "      <td>Embroiled Clothes For Women</td>\n",
              "      <td>Mumbai</td>\n",
              "      <td>Sprout Venture Partners</td>\n",
              "      <td>Seed Round</td>\n",
              "      <td>1800000.0</td>\n",
              "    </tr>\n",
              "    <tr>\n",
              "      <th>6</th>\n",
              "      <td>2020-10-01</td>\n",
              "      <td>Zomato</td>\n",
              "      <td>Hospitality</td>\n",
              "      <td>Online Food Delivery Platform</td>\n",
              "      <td>Gurgaon</td>\n",
              "      <td>Ant Financial</td>\n",
              "      <td>Private Equity Round</td>\n",
              "      <td>150000000.0</td>\n",
              "    </tr>\n",
              "    <tr>\n",
              "      <th>...</th>\n",
              "      <td>...</td>\n",
              "      <td>...</td>\n",
              "      <td>...</td>\n",
              "      <td>...</td>\n",
              "      <td>...</td>\n",
              "      <td>...</td>\n",
              "      <td>...</td>\n",
              "      <td>...</td>\n",
              "    </tr>\n",
              "    <tr>\n",
              "      <th>2035</th>\n",
              "      <td>2016-11-01</td>\n",
              "      <td>Fashionablyin</td>\n",
              "      <td>Consumer Internet</td>\n",
              "      <td>Mobile based Geo-target Fashion Marketplace</td>\n",
              "      <td>Mumbai</td>\n",
              "      <td>Ranjan Mahtani</td>\n",
              "      <td>Seed Funding</td>\n",
              "      <td>0.0</td>\n",
              "    </tr>\n",
              "    <tr>\n",
              "      <th>2036</th>\n",
              "      <td>2016-12-01</td>\n",
              "      <td>Shopclues</td>\n",
              "      <td>ECommerce</td>\n",
              "      <td>ECommerce Marketplace</td>\n",
              "      <td>Gurgaon</td>\n",
              "      <td>GIC, Tiger Global Management, Nexus Venture Pa...</td>\n",
              "      <td>Private Equity</td>\n",
              "      <td>100000000.0</td>\n",
              "    </tr>\n",
              "    <tr>\n",
              "      <th>2037</th>\n",
              "      <td>2016-12-01</td>\n",
              "      <td>Hike Messenger</td>\n",
              "      <td>Consumer Internet</td>\n",
              "      <td>P2P Messaging Service</td>\n",
              "      <td>New Delhi</td>\n",
              "      <td>Matt Mullenweg, Adam D\\\\xe2\\\\x80\\\\x99Angelo, A...</td>\n",
              "      <td>Private Equity</td>\n",
              "      <td>0.0</td>\n",
              "    </tr>\n",
              "    <tr>\n",
              "      <th>2038</th>\n",
              "      <td>2016-12-01</td>\n",
              "      <td>iBus Networks</td>\n",
              "      <td>Technology</td>\n",
              "      <td>Next Generation in-building connectivity</td>\n",
              "      <td>Bangalore</td>\n",
              "      <td>Vallabh Bhanshali, N Squared Management LLC, J...</td>\n",
              "      <td>Private Equity</td>\n",
              "      <td>2300000.0</td>\n",
              "    </tr>\n",
              "    <tr>\n",
              "      <th>2039</th>\n",
              "      <td>2016-12-01</td>\n",
              "      <td>Happy2Refer</td>\n",
              "      <td>Consumer Internet</td>\n",
              "      <td>Mobile based Referral Platform</td>\n",
              "      <td>Mumbai</td>\n",
              "      <td>Equity Crest, Vinners, Sparknext</td>\n",
              "      <td>Seed Funding</td>\n",
              "      <td>250000.0</td>\n",
              "    </tr>\n",
              "  </tbody>\n",
              "</table>\n",
              "<p>890 rows × 8 columns</p>\n",
              "</div>"
            ],
            "text/plain": [
              "           Date                      startups             vertical  \\\n",
              "0    2020-09-01                        BYJU’S               E-Tech   \n",
              "2    2020-09-01                     Mamaearth           E-commerce   \n",
              "3    2020-02-01  https://www.wealthbucket.in/              FinTech   \n",
              "4    2020-02-01                        Fashor  Fashion and Apparel   \n",
              "6    2020-10-01                        Zomato          Hospitality   \n",
              "...         ...                           ...                  ...   \n",
              "2035 2016-11-01                 Fashionablyin    Consumer Internet   \n",
              "2036 2016-12-01                     Shopclues            ECommerce   \n",
              "2037 2016-12-01                Hike Messenger    Consumer Internet   \n",
              "2038 2016-12-01                 iBus Networks           Technology   \n",
              "2039 2016-12-01                   Happy2Refer    Consumer Internet   \n",
              "\n",
              "                                      subvertical   location  \\\n",
              "0                                      E-learning  Bengaluru   \n",
              "2           Retailer of baby and toddler products  Bengaluru   \n",
              "3                               Online Investment  New Delhi   \n",
              "4                     Embroiled Clothes For Women     Mumbai   \n",
              "6                   Online Food Delivery Platform    Gurgaon   \n",
              "...                                           ...        ...   \n",
              "2035  Mobile based Geo-target Fashion Marketplace     Mumbai   \n",
              "2036                        ECommerce Marketplace    Gurgaon   \n",
              "2037                        P2P Messaging Service  New Delhi   \n",
              "2038     Next Generation in-building connectivity  Bangalore   \n",
              "2039               Mobile based Referral Platform     Mumbai   \n",
              "\n",
              "                                               investor      investment round  \\\n",
              "0                               Tiger Global Management  Private Equity Round   \n",
              "2                                 Sequoia Capital India              Series B   \n",
              "3                                        Vinod Khatumal          Pre-series A   \n",
              "4                               Sprout Venture Partners            Seed Round   \n",
              "6                                         Ant Financial  Private Equity Round   \n",
              "...                                                 ...                   ...   \n",
              "2035                                     Ranjan Mahtani          Seed Funding   \n",
              "2036  GIC, Tiger Global Management, Nexus Venture Pa...        Private Equity   \n",
              "2037  Matt Mullenweg, Adam D\\\\xe2\\\\x80\\\\x99Angelo, A...        Private Equity   \n",
              "2038  Vallabh Bhanshali, N Squared Management LLC, J...        Private Equity   \n",
              "2039                   Equity Crest, Vinners, Sparknext          Seed Funding   \n",
              "\n",
              "           amount  \n",
              "0     200000000.0  \n",
              "2      18358860.0  \n",
              "3       3000000.0  \n",
              "4       1800000.0  \n",
              "6     150000000.0  \n",
              "...           ...  \n",
              "2035          0.0  \n",
              "2036  100000000.0  \n",
              "2037          0.0  \n",
              "2038    2300000.0  \n",
              "2039     250000.0  \n",
              "\n",
              "[890 rows x 8 columns]"
            ]
          },
          "execution_count": 39,
          "metadata": {},
          "output_type": "execute_result"
        }
      ],
      "source": [
        "df # After dropping unnecessary columns and removing all NaN values, this dataset now has 890 rows and 8 columns."
      ]
    },
    {
      "cell_type": "code",
      "execution_count": 40,
      "metadata": {
        "id": "4QBn1BaNzudk"
      },
      "outputs": [],
      "source": [
        "df.reset_index(drop=True,inplace=True)"
      ]
    },
    {
      "cell_type": "markdown",
      "metadata": {
        "id": "EZuFNZPnAk4z"
      },
      "source": [
        "# **Analysis**"
      ]
    },
    {
      "cell_type": "markdown",
      "metadata": {
        "id": "e1Go9uxZ2SIK"
      },
      "source": [
        "**1.Top 10 fund raised companies.**"
      ]
    },
    {
      "cell_type": "code",
      "execution_count": 41,
      "metadata": {
        "id": "NGz15KD5z2pI"
      },
      "outputs": [],
      "source": [
        "funds_overview=df.groupby(\"startups\")[\"amount\"].sum()\n",
        "funds_overview=funds_overview[funds_overview>0]"
      ]
    },
    {
      "cell_type": "code",
      "execution_count": 42,
      "metadata": {
        "colab": {
          "base_uri": "https://localhost:8080/",
          "height": 489
        },
        "id": "fgPrQRqADe8V",
        "outputId": "60f739b9-1f77-4288-d430-83edae0de696"
      },
      "outputs": [
        {
          "data": {
            "text/plain": [
              "startups\n",
              "\"BYJU\\\\'S\"    150000000.0\n",
              "19th mile        180000.0\n",
              "360Ride          150000.0\n",
              "3HCare           100000.0\n",
              "3rdFlix         5000000.0\n",
              "                 ...     \n",
              "imedilane         40000.0\n",
              "medECUBE        4000000.0\n",
              "quizizz         3000000.0\n",
              "wayForward      1000000.0\n",
              "zippserv         440000.0\n",
              "Name: amount, Length: 566, dtype: float64"
            ]
          },
          "execution_count": 42,
          "metadata": {},
          "output_type": "execute_result"
        }
      ],
      "source": [
        "funds_overview"
      ]
    },
    {
      "cell_type": "code",
      "execution_count": 43,
      "metadata": {
        "colab": {
          "base_uri": "https://localhost:8080/",
          "height": 363
        },
        "id": "MPNYWqhr1je0",
        "outputId": "cc35d941-6144-4c69-cbf2-7ea52c2d1657"
      },
      "outputs": [
        {
          "data": {
            "text/html": [
              "<div>\n",
              "<style scoped>\n",
              "    .dataframe tbody tr th:only-of-type {\n",
              "        vertical-align: middle;\n",
              "    }\n",
              "\n",
              "    .dataframe tbody tr th {\n",
              "        vertical-align: top;\n",
              "    }\n",
              "\n",
              "    .dataframe thead th {\n",
              "        text-align: right;\n",
              "    }\n",
              "</style>\n",
              "<table border=\"1\" class=\"dataframe\">\n",
              "  <thead>\n",
              "    <tr style=\"text-align: right;\">\n",
              "      <th></th>\n",
              "      <th>startups</th>\n",
              "      <th>amount</th>\n",
              "    </tr>\n",
              "  </thead>\n",
              "  <tbody>\n",
              "    <tr>\n",
              "      <th>0</th>\n",
              "      <td>Flipkart</td>\n",
              "      <td>2.500000e+09</td>\n",
              "    </tr>\n",
              "    <tr>\n",
              "      <th>1</th>\n",
              "      <td>Udaan</td>\n",
              "      <td>8.100000e+08</td>\n",
              "    </tr>\n",
              "    <tr>\n",
              "      <th>2</th>\n",
              "      <td>GOQii</td>\n",
              "      <td>4.500000e+08</td>\n",
              "    </tr>\n",
              "    <tr>\n",
              "      <th>3</th>\n",
              "      <td>Ola</td>\n",
              "      <td>4.345000e+08</td>\n",
              "    </tr>\n",
              "    <tr>\n",
              "      <th>4</th>\n",
              "      <td>Zomato</td>\n",
              "      <td>3.500000e+08</td>\n",
              "    </tr>\n",
              "    <tr>\n",
              "      <th>5</th>\n",
              "      <td>BigBasket</td>\n",
              "      <td>3.000000e+08</td>\n",
              "    </tr>\n",
              "    <tr>\n",
              "      <th>6</th>\n",
              "      <td>OYO Rooms</td>\n",
              "      <td>2.500000e+08</td>\n",
              "    </tr>\n",
              "    <tr>\n",
              "      <th>7</th>\n",
              "      <td>Zilingo</td>\n",
              "      <td>2.340000e+08</td>\n",
              "    </tr>\n",
              "    <tr>\n",
              "      <th>8</th>\n",
              "      <td>CarDekho</td>\n",
              "      <td>2.000000e+08</td>\n",
              "    </tr>\n",
              "    <tr>\n",
              "      <th>9</th>\n",
              "      <td>Paytm Marketplace</td>\n",
              "      <td>2.000000e+08</td>\n",
              "    </tr>\n",
              "  </tbody>\n",
              "</table>\n",
              "</div>"
            ],
            "text/plain": [
              "            startups        amount\n",
              "0           Flipkart  2.500000e+09\n",
              "1              Udaan  8.100000e+08\n",
              "2              GOQii  4.500000e+08\n",
              "3                Ola  4.345000e+08\n",
              "4             Zomato  3.500000e+08\n",
              "5          BigBasket  3.000000e+08\n",
              "6          OYO Rooms  2.500000e+08\n",
              "7            Zilingo  2.340000e+08\n",
              "8           CarDekho  2.000000e+08\n",
              "9  Paytm Marketplace  2.000000e+08"
            ]
          },
          "execution_count": 43,
          "metadata": {},
          "output_type": "execute_result"
        }
      ],
      "source": [
        "\n",
        "top10_companies=funds_overview.sort_values(ascending=False).head(10)\n",
        "top10_companies=pd.DataFrame(top10_companies)\n",
        "top10_companies=top10_companies.reset_index()\n",
        "top10_companies\n"
      ]
    },
    {
      "cell_type": "code",
      "execution_count": 44,
      "metadata": {
        "id": "51iOr-vZ3ox-"
      },
      "outputs": [],
      "source": [
        "import matplotlib.pyplot as plt\n",
        "import seaborn as sns"
      ]
    },
    {
      "cell_type": "markdown",
      "metadata": {
        "id": "bpeTcoHO6adz"
      },
      "source": [
        "**2.Top 10 E-commerce companies**"
      ]
    },
    {
      "cell_type": "code",
      "execution_count": 45,
      "metadata": {
        "colab": {
          "base_uri": "https://localhost:8080/"
        },
        "id": "jZ_I-b454371",
        "outputId": "816a6d80-fdfa-426b-9da5-f521c82daa66"
      },
      "outputs": [
        {
          "data": {
            "text/plain": [
              "array(['E-Tech', 'E-commerce', 'FinTech', 'Fashion and Apparel',\n",
              "       'Hospitality', 'Technology', 'E-Commerce', 'Aerospace', 'Gaming',\n",
              "       'Video Games', 'Last Mile Transportation', 'Customer Service',\n",
              "       'B2B', 'Advertising, Marketing', 'SaaS', 'IoT',\n",
              "       'Information Technology', 'Consumer Technology',\n",
              "       'Health and Wellness', 'Accounting', 'Finance', 'Compliance',\n",
              "       'Transport', 'Artificial Intelligence', 'Food and Beverage',\n",
              "       'EdTech', 'Tech', 'Health Care', 'Luxury Label',\n",
              "       'Waste Management Service', 'Deep-Tech', 'Energy', 'Digital Media',\n",
              "       'Transportation', 'Services', 'Saas', 'Fintech', 'Edtech', 'AI',\n",
              "       'Ecommerce', 'Automobile', 'Social Media', 'Services Platform',\n",
              "       'Travel Tech', 'Online Education', 'Online Marketplace',\n",
              "       'SaaS, Ecommerce', 'NBFC', 'Food', 'Food Tech', 'Fashion',\n",
              "       'Logistics', 'Real Estate', 'Logistics Tech', 'Consumer Internet',\n",
              "       'B2B Platform', 'Healthcare', 'Fin-Tech', 'Food-Tech', 'Ed-Tech',\n",
              "       'IT', 'Fiinance', 'Food and Beverages', 'Publishing', 'ECommerce',\n",
              "       'eCommerce', 'eCommece', 'Food & Beverage', 'Education',\n",
              "       'ecommerce', 'Others', 'FMCG', 'BFSI'], dtype=object)"
            ]
          },
          "execution_count": 45,
          "metadata": {},
          "output_type": "execute_result"
        }
      ],
      "source": [
        "df['vertical'].unique()"
      ]
    },
    {
      "cell_type": "code",
      "execution_count": 46,
      "metadata": {
        "id": "HNHub3aS6svm"
      },
      "outputs": [],
      "source": [
        "df['vertical']=df['vertical'].str.replace('E-Commerce','E-commerce')\n",
        "df['vertical']=df['vertical'].str.replace('Ecommerce','E-commerce')\n",
        "df['vertical']=df['vertical'].str.replace('ECommerce','E-commerce')\n",
        "df['vertical']=df['vertical'].str.replace('eCommerce','E-commerce')\n",
        "df['vertical']=df['vertical'].str.replace('eCommece','E-commerce')"
      ]
    },
    {
      "cell_type": "code",
      "execution_count": 47,
      "metadata": {
        "id": "FHdspZk46wkr"
      },
      "outputs": [],
      "source": [
        "E_commerce=df[df[\"vertical\"]==\"E-commerce\"][[\"startups\",\"amount\"]]\n",
        "E_commerce=E_commerce[E_commerce[\"amount\"]>0]\n",
        "top10_E_commerce_company=E_commerce.sort_values(by=\"amount\",ascending=False).head(10)"
      ]
    },
    {
      "cell_type": "code",
      "execution_count": 48,
      "metadata": {
        "id": "fMlCZXI07jJs"
      },
      "outputs": [],
      "source": [
        "top10_E_commerce_company=top10_E_commerce_company.groupby(\"startups\")[\"amount\"].sum()"
      ]
    },
    {
      "cell_type": "code",
      "execution_count": 49,
      "metadata": {
        "id": "SHo6ArcN-IJ_"
      },
      "outputs": [],
      "source": [
        "top10_E_commerce_company=pd.DataFrame(top10_E_commerce_company).sort_values(by=\"amount\",ascending=False).head(10).reset_index()"
      ]
    },
    {
      "cell_type": "code",
      "execution_count": 50,
      "metadata": {
        "colab": {
          "base_uri": "https://localhost:8080/",
          "height": 433
        },
        "id": "C72KSjxS_d79",
        "outputId": "ff3b88e8-6006-4d7b-ffb7-c5fdee9b804b"
      },
      "outputs": [
        {
          "data": {
            "image/png": "[encoded data removed]",
            "text/plain": [
              "<Figure size 640x480 with 1 Axes>"
            ]
          },
          "metadata": {},
          "output_type": "display_data"
        }
      ],
      "source": [
        "# plt.figure(figsize=())\n",
        "plt.pie(top10_E_commerce_company['amount'], labels=top10_E_commerce_company['startups'], autopct='%1.1f%%',colors=sns.color_palette('pastel'))\n",
        "plt.title('Top 10 E-commerse Company by their networth percentage', fontsize=18, weight='bold')\n",
        "plt.show()"
      ]
    },
    {
      "cell_type": "markdown",
      "metadata": {
        "id": "eg6hYLEEpv_i"
      },
      "source": [
        "With 72.6 percent, Flipkart is at the first position, Zilingo at the second position and Paytm at the third position."
      ]
    },
    {
      "cell_type": "markdown",
      "metadata": {
        "id": "c0CPnLRWB7w-"
      },
      "source": [
        "**3.Top 5 startup friendly locations in India.**"
      ]
    },
    {
      "cell_type": "code",
      "execution_count": 51,
      "metadata": {
        "colab": {
          "base_uri": "https://localhost:8080/"
        },
        "id": "cRNVPHRZB7Yz",
        "outputId": "b191940b-edba-4c29-a303-5e5bf886a209"
      },
      "outputs": [
        {
          "data": {
            "text/plain": [
              "array(['Bengaluru', 'New Delhi', 'Mumbai', 'Gurgaon', 'Pune', 'Noida',\n",
              "       'Amritsar', 'Hyderabad', 'Burnsville', 'Menlo Park', 'Singapore',\n",
              "       'Kormangala', 'Taramani', 'Andheri', 'Chembur', 'Haryana',\n",
              "       'New York', 'Karnataka', 'Mumbai/Bengaluru', 'Delhi', 'Bhopal',\n",
              "       'Gurugram', 'India/Singapore', 'Jaipur', 'India/US', 'Chennai',\n",
              "       'Nagpur', 'Indore', 'New York, Bengaluru', 'Rourkela', 'Srinagar',\n",
              "       'Bhubneswar', 'Coimbatore', 'Bangalore', 'Faridabad', 'Ahemdabad',\n",
              "       'Bhubaneswar', 'Ahmedabad', 'Surat', 'Goa', 'Nw Delhi', 'Kolkata',\n",
              "       'Trivandrum', 'Vadodara', 'Panaji', 'Udupi', 'Kochi',\n",
              "       'Bangalore/ Bangkok', 'Hubli', 'Kerala', 'US', 'Chandigarh',\n",
              "       'Siliguri', 'Lucknow', 'Kanpur', 'SFO / Bangalore', 'London',\n",
              "       'Seattle / Bangalore', 'Pune/Seattle', 'Pune / Dubai',\n",
              "       'Bangalore / SFO', 'Varanasi'], dtype=object)"
            ]
          },
          "execution_count": 51,
          "metadata": {},
          "output_type": "execute_result"
        }
      ],
      "source": [
        "df[\"location\"].unique()\n"
      ]
    },
    {
      "cell_type": "code",
      "execution_count": 52,
      "metadata": {
        "id": "PzRJDSHQCLHp"
      },
      "outputs": [],
      "source": [
        "df['location']=df['location'].str.replace('Bengaluru','Bangalore')\n",
        "df['location']=df['location'].str.replace('Bengaluru and Gurugram','Bangalore')\n",
        "df['location']=df['location'].str.replace('New York, Bengaluru','Bangalore')\n",
        "df['location']=df['location'].str.replace('Bangalore/ Bangkok','Bangalore')\n",
        "df['location']=df['location'].str.replace('SFO / Bangalore','Bangalore')\n",
        "df['location']=df['location'].str.replace('Seattle / Bangalore','Bangalore')\n",
        "df['location']=df['location'].str.replace('Bangalore / SFO','Bangalore')\n",
        "df['location']=df['location'].str.replace('Mumbai/Bengaluru','Mumbai')\n",
        "df['location']=df['location'].str.replace('Mumbai / UK','Mumbai')\n",
        "df['location']=df['location'].str.replace('New Delhi / US','New Delhi')\n",
        "df['location']=df['location'].str.replace('Pune / Dubai','Pune')\n",
        "df['location']=df['location'].str.replace('Pune/Seattle','Pune')"
      ]
    },
    {
      "cell_type": "code",
      "execution_count": 53,
      "metadata": {
        "colab": {
          "base_uri": "https://localhost:8080/",
          "height": 429
        },
        "id": "gfafn3IOCX_d",
        "outputId": "a3175cf9-651d-471e-999e-112aca28d48d"
      },
      "outputs": [
        {
          "data": {
            "text/plain": [
              "investment round\n",
              "Private Equity          388\n",
              "Seed Funding            362\n",
              "Seed/ Angel Funding      23\n",
              "Series A                 16\n",
              "Seed / Angel Funding     15\n",
              "Debt Funding             13\n",
              "Series D                 10\n",
              "Series B                  8\n",
              "Series C                  8\n",
              "Seed/Angel Funding        7\n",
              "Name: count, dtype: int64"
            ]
          },
          "execution_count": 53,
          "metadata": {},
          "output_type": "execute_result"
        }
      ],
      "source": [
        "top_investment = df['investment round'].value_counts().head(10)\n",
        "top_investment"
      ]
    },
    {
      "cell_type": "code",
      "execution_count": 54,
      "metadata": {
        "id": "f-_EpGHUCSAJ"
      },
      "outputs": [],
      "source": [
        "top5_loc=df[\"location\"].value_counts().head(5)"
      ]
    },
    {
      "cell_type": "code",
      "execution_count": 55,
      "metadata": {
        "colab": {
          "base_uri": "https://localhost:8080/",
          "height": 272
        },
        "id": "cS3vLqjPDNbP",
        "outputId": "04e9bf66-8f5f-49da-e37b-689992dac4f9"
      },
      "outputs": [
        {
          "data": {
            "text/plain": [
              "location\n",
              "Bangalore    259\n",
              "Mumbai       171\n",
              "New Delhi    119\n",
              "Gurgaon       85\n",
              "Pune          42\n",
              "Name: count, dtype: int64"
            ]
          },
          "execution_count": 55,
          "metadata": {},
          "output_type": "execute_result"
        }
      ],
      "source": [
        "top5_loc"
      ]
    },
    {
      "cell_type": "code",
      "execution_count": 56,
      "metadata": {
        "colab": {
          "base_uri": "https://localhost:8080/",
          "height": 631
        },
        "id": "UyD-Qj8fDRg6",
        "outputId": "7a854f95-3722-4862-9dad-a8c485443143"
      },
      "outputs": [
        {
          "name": "stderr",
          "output_type": "stream",
          "text": [
            "C:\\Users\\Vishnu Gopan\\AppData\\Local\\Temp\\ipykernel_15952\\4213459012.py:2: FutureWarning: \n",
            "\n",
            "Passing `palette` without assigning `hue` is deprecated and will be removed in v0.14.0. Assign the `x` variable to `hue` and set `legend=False` for the same effect.\n",
            "\n",
            "  sns.barplot(y=top5_loc,x=top5_loc.index,palette=\n"
          ]
        },
        {
          "data": {
            "image/png": "[encoded data removed]",
            "text/plain": [
              "<Figure size 800x500 with 1 Axes>"
            ]
          },
          "metadata": {},
          "output_type": "display_data"
        }
      ],
      "source": [
        "plt.figure(figsize=(8,5))\n",
        "sns.barplot(y=top5_loc,x=top5_loc.index,palette=\n",
        "            ['#FF9999', '#66B2FF', '#99FF99','#fbe7aa','#cdb2f8'])\n",
        "plt.title('Top 5 Startup friendly locations in India',fontsize=18,weight='bold')\n",
        "plt.xlabel('City',fontsize=15,weight='bold')\n",
        "plt.ylabel('Startups',fontsize=15,weight='bold')\n",
        "plt.xticks(rotation=45,ha='right',fontsize=9,weight='bold')\n",
        "\n",
        "plt.show()"
      ]
    },
    {
      "cell_type": "markdown",
      "metadata": {
        "id": "uxK1Glo6VCJS"
      },
      "source": [
        "As per above analysis Bangalore is more suitable for startup in India.\n",
        "\n",
        "Largest tech hub with the most startups and tech talent.\n",
        "\n",
        "High funding availability from investors and venture capitalists.\n",
        "\n",
        "Thriving ecosystem with incubators, accelerators, and government support.\n",
        "\n",
        "Sectors :\n",
        "\n",
        "> Technology\n",
        "\n",
        "> SaaS (Software as a Service)\n",
        "\n",
        "> E-commerce\n",
        "\n",
        "> FinTech"
      ]
    },
    {
      "cell_type": "markdown",
      "metadata": {
        "id": "oHVoxGJqF9_6"
      },
      "source": [
        "***4.Top*** **5 startup investors in India.**"
      ]
    },
    {
      "cell_type": "code",
      "execution_count": 57,
      "metadata": {
        "id": "y0WRUCnW37YG"
      },
      "outputs": [],
      "source": [
        "df['investor']=df['investor'].str.replace('Undisclosed investor','Undisclosed Investors')\n",
        "df['investor']=df['investor'].str.replace('Undisclosed','Undisclosed Investors')\n",
        "df['investor']=df['investor'].str.replace('Undisclosed Investor','Undisclosed Investors')"
      ]
    },
    {
      "cell_type": "code",
      "execution_count": 58,
      "metadata": {
        "id": "ibCJarCMEjCK"
      },
      "outputs": [],
      "source": [
        "top5_investors=df.groupby(\"investor\")[\"amount\"].sum().reset_index().sort_values(by=\"amount\",ascending=False).head(5)"
      ]
    },
    {
      "cell_type": "code",
      "execution_count": 59,
      "metadata": {
        "colab": {
          "base_uri": "https://localhost:8080/",
          "height": 206
        },
        "id": "qf_h0GHrGmPU",
        "outputId": "c30edf42-fdfc-4ef1-9f46-e0b001550ab3"
      },
      "outputs": [
        {
          "data": {
            "text/html": [
              "<div>\n",
              "<style scoped>\n",
              "    .dataframe tbody tr th:only-of-type {\n",
              "        vertical-align: middle;\n",
              "    }\n",
              "\n",
              "    .dataframe tbody tr th {\n",
              "        vertical-align: top;\n",
              "    }\n",
              "\n",
              "    .dataframe thead th {\n",
              "        text-align: right;\n",
              "    }\n",
              "</style>\n",
              "<table border=\"1\" class=\"dataframe\">\n",
              "  <thead>\n",
              "    <tr style=\"text-align: right;\">\n",
              "      <th></th>\n",
              "      <th>investor</th>\n",
              "      <th>amount</th>\n",
              "    </tr>\n",
              "  </thead>\n",
              "  <tbody>\n",
              "    <tr>\n",
              "      <th>623</th>\n",
              "      <td>Softbank</td>\n",
              "      <td>2.500000e+09</td>\n",
              "    </tr>\n",
              "    <tr>\n",
              "      <th>45</th>\n",
              "      <td>Altimeter Capital, DST Global</td>\n",
              "      <td>5.850000e+08</td>\n",
              "    </tr>\n",
              "    <tr>\n",
              "      <th>104</th>\n",
              "      <td>Bennett Coleman and Company Ltd (BCCL)</td>\n",
              "      <td>4.500000e+08</td>\n",
              "    </tr>\n",
              "    <tr>\n",
              "      <th>621</th>\n",
              "      <td>SoftBank Group Corp</td>\n",
              "      <td>3.300000e+08</td>\n",
              "    </tr>\n",
              "    <tr>\n",
              "      <th>40</th>\n",
              "      <td>Alibaba, Helion Venture Partners, Bessemer Ven...</td>\n",
              "      <td>3.000000e+08</td>\n",
              "    </tr>\n",
              "  </tbody>\n",
              "</table>\n",
              "</div>"
            ],
            "text/plain": [
              "                                              investor        amount\n",
              "623                                           Softbank  2.500000e+09\n",
              "45                       Altimeter Capital, DST Global  5.850000e+08\n",
              "104             Bennett Coleman and Company Ltd (BCCL)  4.500000e+08\n",
              "621                                SoftBank Group Corp  3.300000e+08\n",
              "40   Alibaba, Helion Venture Partners, Bessemer Ven...  3.000000e+08"
            ]
          },
          "execution_count": 59,
          "metadata": {},
          "output_type": "execute_result"
        }
      ],
      "source": [
        "top5_investors"
      ]
    },
    {
      "cell_type": "code",
      "execution_count": 60,
      "metadata": {
        "colab": {
          "base_uri": "https://localhost:8080/",
          "height": 603
        },
        "id": "lY72MFqmGsOT",
        "outputId": "40346781-13fe-4f24-caec-b73b3bb4710d"
      },
      "outputs": [
        {
          "data": {
            "image/png": "[encoded data removed]",
            "text/plain": [
              "<Figure size 700x700 with 1 Axes>"
            ]
          },
          "metadata": {},
          "output_type": "display_data"
        }
      ],
      "source": [
        "plt.figure(figsize=(7,7))\n",
        "plt.pie(top5_investors['amount'], labels=top5_investors['investor'], autopct='%1.1f%%',\n",
        "        colors= ['#FF9999', '#66B2FF', '#99FF99', '#FFCC99', '#FF6666'])\n",
        "plt.title('Top 5 Startup Investors In India', fontsize=18, weight='bold')\n",
        "plt.show()"
      ]
    },
    {
      "cell_type": "markdown",
      "metadata": {
        "id": "Uu5OLibPHVUV"
      },
      "source": [
        "**5.Flipkart's investors**"
      ]
    },
    {
      "cell_type": "code",
      "execution_count": 61,
      "metadata": {
        "colab": {
          "base_uri": "https://localhost:8080/",
          "height": 89
        },
        "id": "4NOK-RLhHTf6",
        "outputId": "47917ac7-dedd-4d7b-d96b-3dfc019ab98d"
      },
      "outputs": [
        {
          "data": {
            "text/html": [
              "<div>\n",
              "<style scoped>\n",
              "    .dataframe tbody tr th:only-of-type {\n",
              "        vertical-align: middle;\n",
              "    }\n",
              "\n",
              "    .dataframe tbody tr th {\n",
              "        vertical-align: top;\n",
              "    }\n",
              "\n",
              "    .dataframe thead th {\n",
              "        text-align: right;\n",
              "    }\n",
              "</style>\n",
              "<table border=\"1\" class=\"dataframe\">\n",
              "  <thead>\n",
              "    <tr style=\"text-align: right;\">\n",
              "      <th></th>\n",
              "      <th>investor</th>\n",
              "      <th>amount</th>\n",
              "    </tr>\n",
              "  </thead>\n",
              "  <tbody>\n",
              "    <tr>\n",
              "      <th>308</th>\n",
              "      <td>Softbank</td>\n",
              "      <td>2.500000e+09</td>\n",
              "    </tr>\n",
              "  </tbody>\n",
              "</table>\n",
              "</div>"
            ],
            "text/plain": [
              "     investor        amount\n",
              "308  Softbank  2.500000e+09"
            ]
          },
          "execution_count": 61,
          "metadata": {},
          "output_type": "execute_result"
        }
      ],
      "source": [
        "flipkart=df[df[\"startups\"]==\"Flipkart\"][[\"investor\",\"amount\"]]\n",
        "flipkart\n",
        "# soft bank group is the only investor of flipkart. (2.5 billion dollers)"
      ]
    },
    {
      "cell_type": "code",
      "execution_count": 62,
      "metadata": {
        "colab": {
          "base_uri": "https://localhost:8080/",
          "height": 433
        },
        "id": "s5lSvIHPKyZv",
        "outputId": "b38d12a9-6a37-445e-e77d-3117a8b59c3c"
      },
      "outputs": [
        {
          "data": {
            "image/png": "[encoded data removed]",
            "text/plain": [
              "<Figure size 640x480 with 1 Axes>"
            ]
          },
          "metadata": {},
          "output_type": "display_data"
        }
      ],
      "source": [
        "\n",
        "plt.pie(flipkart['amount'], labels=flipkart['investor'], autopct='%1.1f%%',colors=sns.color_palette('pastel'))\n",
        "plt.title('flipkart Shareholding percentage', fontsize=18, weight='bold')\n",
        "plt.show()"
      ]
    },
    {
      "cell_type": "markdown",
      "metadata": {
        "id": "fBY16CITIHvM"
      },
      "source": [
        "**6.Paytm share holding groups**"
      ]
    },
    {
      "cell_type": "code",
      "execution_count": 63,
      "metadata": {
        "colab": {
          "base_uri": "https://localhost:8080/",
          "height": 89
        },
        "id": "wUt-yhK5IYlq",
        "outputId": "beb958a9-e542-4d6f-8f1a-0b295283c4f0"
      },
      "outputs": [
        {
          "data": {
            "text/html": [
              "<div>\n",
              "<style scoped>\n",
              "    .dataframe tbody tr th:only-of-type {\n",
              "        vertical-align: middle;\n",
              "    }\n",
              "\n",
              "    .dataframe tbody tr th {\n",
              "        vertical-align: top;\n",
              "    }\n",
              "\n",
              "    .dataframe thead th {\n",
              "        text-align: right;\n",
              "    }\n",
              "</style>\n",
              "<table border=\"1\" class=\"dataframe\">\n",
              "  <thead>\n",
              "    <tr style=\"text-align: right;\">\n",
              "      <th></th>\n",
              "      <th>investor</th>\n",
              "      <th>amount</th>\n",
              "    </tr>\n",
              "  </thead>\n",
              "  <tbody>\n",
              "    <tr>\n",
              "      <th>437</th>\n",
              "      <td>Alibaba</td>\n",
              "      <td>200000000.0</td>\n",
              "    </tr>\n",
              "  </tbody>\n",
              "</table>\n",
              "</div>"
            ],
            "text/plain": [
              "    investor       amount\n",
              "437  Alibaba  200000000.0"
            ]
          },
          "execution_count": 63,
          "metadata": {},
          "output_type": "execute_result"
        }
      ],
      "source": [
        "Paytm=df[df[\"startups\"]==\"Paytm Marketplace\"][[\"investor\",\"amount\"]]\n",
        "Paytm\n",
        "# Alibaba group is the only share holder of paytm"
      ]
    },
    {
      "cell_type": "code",
      "execution_count": 64,
      "metadata": {
        "colab": {
          "base_uri": "https://localhost:8080/",
          "height": 433
        },
        "id": "qzAhdmteHM7R",
        "outputId": "596f79e0-c3c3-4f5b-b95d-3d6f52bba43b"
      },
      "outputs": [
        {
          "data": {
            "image/png": "[encoded data removed]",
            "text/plain": [
              "<Figure size 640x480 with 1 Axes>"
            ]
          },
          "metadata": {},
          "output_type": "display_data"
        }
      ],
      "source": [
        "\n",
        "plt.pie(Paytm['amount'], labels=Paytm['investor'], autopct='%1.1f%%',colors=sns.color_palette('pastel'))\n",
        "plt.title('Paytm Shareholding percentage', fontsize=18, weight='bold')\n",
        "plt.show()"
      ]
    },
    {
      "cell_type": "markdown",
      "metadata": {
        "id": "LHV2VHXvK7gu"
      },
      "source": [
        "**7.Healthcare marketcap acquisition by startups.**"
      ]
    },
    {
      "cell_type": "code",
      "execution_count": 65,
      "metadata": {
        "colab": {
          "base_uri": "https://localhost:8080/"
        },
        "id": "W6Pue6jbJvdj",
        "outputId": "81baca89-6f19-49c6-cfcc-c7775943135c"
      },
      "outputs": [
        {
          "data": {
            "text/plain": [
              "array(['E-Tech', 'E-commerce', 'FinTech', 'Fashion and Apparel',\n",
              "       'Hospitality', 'Technology', 'Aerospace', 'Gaming', 'Video Games',\n",
              "       'Last Mile Transportation', 'Customer Service', 'B2B',\n",
              "       'Advertising, Marketing', 'SaaS', 'IoT', 'Information Technology',\n",
              "       'Consumer Technology', 'Health and Wellness', 'Accounting',\n",
              "       'Finance', 'Compliance', 'Transport', 'Artificial Intelligence',\n",
              "       'Food and Beverage', 'EdTech', 'Tech', 'Health Care',\n",
              "       'Luxury Label', 'Waste Management Service', 'Deep-Tech', 'Energy',\n",
              "       'Digital Media', 'Transportation', 'Services', 'Saas', 'Fintech',\n",
              "       'Edtech', 'AI', 'Automobile', 'Social Media', 'Services Platform',\n",
              "       'Travel Tech', 'Online Education', 'Online Marketplace',\n",
              "       'SaaS, E-commerce', 'NBFC', 'Food', 'Food Tech', 'Fashion',\n",
              "       'Logistics', 'Real Estate', 'Logistics Tech', 'Consumer Internet',\n",
              "       'B2B Platform', 'Healthcare', 'Fin-Tech', 'Food-Tech', 'Ed-Tech',\n",
              "       'IT', 'Fiinance', 'Food and Beverages', 'Publishing',\n",
              "       'Food & Beverage', 'Education', 'ecommerce', 'Others', 'FMCG',\n",
              "       'BFSI'], dtype=object)"
            ]
          },
          "execution_count": 65,
          "metadata": {},
          "output_type": "execute_result"
        }
      ],
      "source": [
        "df[\"vertical\"].unique()"
      ]
    },
    {
      "cell_type": "code",
      "execution_count": 66,
      "metadata": {
        "id": "vIyem8RSLUtH"
      },
      "outputs": [],
      "source": [
        "df['vertical']=df['vertical'].str.replace('Health and wellness','healthcare')\n",
        "df['vertical']=df['vertical'].str.replace('Health and Wellness','healthcare')\n",
        "df['vertical']=df['vertical'].str.replace('Healthcare','healthcare')\n",
        "df['vertical']=df['vertical'].str.replace('Health Care','healthcare')"
      ]
    },
    {
      "cell_type": "code",
      "execution_count": 67,
      "metadata": {
        "id": "Tz57RPt0L1e2"
      },
      "outputs": [],
      "source": [
        "Healthcare=df[df[\"vertical\"] == \"healthcare\"][['startups',\"amount\"]]\n",
        "Healthcare=Healthcare[Healthcare['amount'] > 0]\n",
        "top10_Healthcare_company=Healthcare.sort_values(by=\"amount\",ascending=False).head(10)"
      ]
    },
    {
      "cell_type": "code",
      "execution_count": 68,
      "metadata": {
        "colab": {
          "base_uri": "https://localhost:8080/",
          "height": 363
        },
        "id": "nLeB0xBMME74",
        "outputId": "779ec6a4-3507-467f-dee6-5090db339730"
      },
      "outputs": [
        {
          "data": {
            "text/html": [
              "<div>\n",
              "<style scoped>\n",
              "    .dataframe tbody tr th:only-of-type {\n",
              "        vertical-align: middle;\n",
              "    }\n",
              "\n",
              "    .dataframe tbody tr th {\n",
              "        vertical-align: top;\n",
              "    }\n",
              "\n",
              "    .dataframe thead th {\n",
              "        text-align: right;\n",
              "    }\n",
              "</style>\n",
              "<table border=\"1\" class=\"dataframe\">\n",
              "  <thead>\n",
              "    <tr style=\"text-align: right;\">\n",
              "      <th></th>\n",
              "      <th>startups</th>\n",
              "      <th>amount</th>\n",
              "    </tr>\n",
              "  </thead>\n",
              "  <tbody>\n",
              "    <tr>\n",
              "      <th>20</th>\n",
              "      <td>GOQii</td>\n",
              "      <td>450000000.0</td>\n",
              "    </tr>\n",
              "    <tr>\n",
              "      <th>180</th>\n",
              "      <td>Shape</td>\n",
              "      <td>100000000.0</td>\n",
              "    </tr>\n",
              "    <tr>\n",
              "      <th>392</th>\n",
              "      <td>Healthcare at Home</td>\n",
              "      <td>40000000.0</td>\n",
              "    </tr>\n",
              "    <tr>\n",
              "      <th>68</th>\n",
              "      <td>Vyome Therapeutics Inc.</td>\n",
              "      <td>22000000.0</td>\n",
              "    </tr>\n",
              "    <tr>\n",
              "      <th>175</th>\n",
              "      <td>Asia Institute Of Medical Science</td>\n",
              "      <td>21000000.0</td>\n",
              "    </tr>\n",
              "    <tr>\n",
              "      <th>404</th>\n",
              "      <td>Medwell Ventures</td>\n",
              "      <td>21000000.0</td>\n",
              "    </tr>\n",
              "    <tr>\n",
              "      <th>438</th>\n",
              "      <td>iGenetics</td>\n",
              "      <td>19500000.0</td>\n",
              "    </tr>\n",
              "    <tr>\n",
              "      <th>182</th>\n",
              "      <td>healthifyme</td>\n",
              "      <td>12000000.0</td>\n",
              "    </tr>\n",
              "    <tr>\n",
              "      <th>163</th>\n",
              "      <td>MedGenome</td>\n",
              "      <td>10000000.0</td>\n",
              "    </tr>\n",
              "    <tr>\n",
              "      <th>273</th>\n",
              "      <td>OncoStem</td>\n",
              "      <td>6000000.0</td>\n",
              "    </tr>\n",
              "  </tbody>\n",
              "</table>\n",
              "</div>"
            ],
            "text/plain": [
              "                              startups       amount\n",
              "20                               GOQii  450000000.0\n",
              "180                              Shape  100000000.0\n",
              "392                 Healthcare at Home   40000000.0\n",
              "68             Vyome Therapeutics Inc.   22000000.0\n",
              "175  Asia Institute Of Medical Science   21000000.0\n",
              "404                   Medwell Ventures   21000000.0\n",
              "438                          iGenetics   19500000.0\n",
              "182                        healthifyme   12000000.0\n",
              "163                          MedGenome   10000000.0\n",
              "273                           OncoStem    6000000.0"
            ]
          },
          "execution_count": 68,
          "metadata": {},
          "output_type": "execute_result"
        }
      ],
      "source": [
        "top10_Healthcare_company"
      ]
    },
    {
      "cell_type": "code",
      "execution_count": 82,
      "metadata": {},
      "outputs": [
        {
          "name": "stderr",
          "output_type": "stream",
          "text": [
            "C:\\Users\\Vishnu Gopan\\AppData\\Local\\Temp\\ipykernel_15952\\2062813723.py:2: FutureWarning: \n",
            "\n",
            "Passing `palette` without assigning `hue` is deprecated and will be removed in v0.14.0. Assign the `x` variable to `hue` and set `legend=False` for the same effect.\n",
            "\n",
            "  sns.barplot(y=top10_Healthcare_company['amount'],x=top10_Healthcare_company['startups'],palette=\n",
            "C:\\Users\\Vishnu Gopan\\AppData\\Local\\Temp\\ipykernel_15952\\2062813723.py:2: UserWarning: \n",
            "The palette list has fewer values (5) than needed (10) and will cycle, which may produce an uninterpretable plot.\n",
            "  sns.barplot(y=top10_Healthcare_company['amount'],x=top10_Healthcare_company['startups'],palette=\n"
          ]
        },
        {
          "data": {
            "image/png": "[encoded data removed]",
            "text/plain": [
              "<Figure size 1000x800 with 1 Axes>"
            ]
          },
          "metadata": {},
          "output_type": "display_data"
        }
      ],
      "source": [
        "plt.figure(figsize=(10,8))\n",
        "sns.barplot(y=top10_Healthcare_company['amount'],x=top10_Healthcare_company['startups'],palette=\n",
        "            ['#FF9999', '#66B2FF', '#99FF99','#fbe7aa','#cdb2f8'])\n",
        "plt.title('Healthcare marketcap acquisition by startups',fontsize=18,weight='bold')\n",
        "plt.xlabel('Startups',fontsize=15,weight='bold')\n",
        "plt.ylabel('Amount',fontsize=15,weight='bold')\n",
        "plt.xticks(rotation=45,ha='right',fontsize=9,weight='bold')\n",
        "\n",
        "plt.show()"
      ]
    },
    {
      "cell_type": "markdown",
      "metadata": {
        "id": "6kxN252_NUpx"
      },
      "source": [
        "**8.Top 5 markets most liked by investors.**"
      ]
    },
    {
      "cell_type": "code",
      "execution_count": 71,
      "metadata": {
        "id": "VJT0kGQHNTmE"
      },
      "outputs": [],
      "source": [
        "investors_interest=df.groupby(\"vertical\")[\"startups\"].size().reset_index(name=\"number_of_startups\").sort_values(by=\"number_of_startups\",ascending=False).head(5)"
      ]
    },
    {
      "cell_type": "code",
      "execution_count": 72,
      "metadata": {
        "colab": {
          "base_uri": "https://localhost:8080/",
          "height": 206
        },
        "id": "Y0KlophoNAHN",
        "outputId": "cc483de9-7f27-4617-f30f-6f8084bd41bd"
      },
      "outputs": [
        {
          "data": {
            "text/html": [
              "<div>\n",
              "<style scoped>\n",
              "    .dataframe tbody tr th:only-of-type {\n",
              "        vertical-align: middle;\n",
              "    }\n",
              "\n",
              "    .dataframe tbody tr th {\n",
              "        vertical-align: top;\n",
              "    }\n",
              "\n",
              "    .dataframe thead th {\n",
              "        text-align: right;\n",
              "    }\n",
              "</style>\n",
              "<table border=\"1\" class=\"dataframe\">\n",
              "  <thead>\n",
              "    <tr style=\"text-align: right;\">\n",
              "      <th></th>\n",
              "      <th>vertical</th>\n",
              "      <th>number_of_startups</th>\n",
              "    </tr>\n",
              "  </thead>\n",
              "  <tbody>\n",
              "    <tr>\n",
              "      <th>10</th>\n",
              "      <td>Consumer Internet</td>\n",
              "      <td>364</td>\n",
              "    </tr>\n",
              "    <tr>\n",
              "      <th>58</th>\n",
              "      <td>Technology</td>\n",
              "      <td>198</td>\n",
              "    </tr>\n",
              "    <tr>\n",
              "      <th>16</th>\n",
              "      <td>E-commerce</td>\n",
              "      <td>131</td>\n",
              "    </tr>\n",
              "    <tr>\n",
              "      <th>65</th>\n",
              "      <td>healthcare</td>\n",
              "      <td>36</td>\n",
              "    </tr>\n",
              "    <tr>\n",
              "      <th>28</th>\n",
              "      <td>Finance</td>\n",
              "      <td>26</td>\n",
              "    </tr>\n",
              "  </tbody>\n",
              "</table>\n",
              "</div>"
            ],
            "text/plain": [
              "             vertical  number_of_startups\n",
              "10  Consumer Internet                 364\n",
              "58         Technology                 198\n",
              "16         E-commerce                 131\n",
              "65         healthcare                  36\n",
              "28            Finance                  26"
            ]
          },
          "execution_count": 72,
          "metadata": {},
          "output_type": "execute_result"
        }
      ],
      "source": [
        "investors_interest"
      ]
    },
    {
      "cell_type": "code",
      "execution_count": 73,
      "metadata": {
        "colab": {
          "base_uri": "https://localhost:8080/",
          "height": 603
        },
        "id": "_OI6XSM8Oxhn",
        "outputId": "2eb78026-804a-4ef9-89b5-e5e6b8057273"
      },
      "outputs": [
        {
          "data": {
            "image/png": "[encoded data removed]",
            "text/plain": [
              "<Figure size 700x700 with 1 Axes>"
            ]
          },
          "metadata": {},
          "output_type": "display_data"
        }
      ],
      "source": [
        "plt.figure(figsize=(7,7))\n",
        "plt.pie(investors_interest['number_of_startups'], labels=investors_interest['vertical'], autopct='%1.1f%%',colors=sns.color_palette('pastel'))\n",
        "plt.title('Top 5 markets most liked by investors.', fontsize=18, weight='bold')\n",
        "plt.show()"
      ]
    },
    {
      "cell_type": "markdown",
      "metadata": {
        "id": "OUxy_efl-Jtw"
      },
      "source": [
        "**9.Total funding amount over the years**"
      ]
    },
    {
      "cell_type": "code",
      "execution_count": 74,
      "metadata": {
        "id": "qa0Zdxtlj2tr"
      },
      "outputs": [],
      "source": [
        "# Extract year and month for time-based analysis\n",
        "df['Year'] = df['Date'].dt.year\n",
        "df['Month'] = df['Date'].dt.month"
      ]
    },
    {
      "cell_type": "code",
      "execution_count": 75,
      "metadata": {
        "colab": {
          "base_uri": "https://localhost:8080/",
          "height": 595
        },
        "id": "x7O7_08_SymK",
        "outputId": "f256c978-047b-4cbc-dcfb-a4b44a0fc682"
      },
      "outputs": [
        {
          "name": "stderr",
          "output_type": "stream",
          "text": [
            "C:\\Users\\Vishnu Gopan\\AppData\\Local\\Temp\\ipykernel_15952\\3446486547.py:3: FutureWarning: \n",
            "\n",
            "Passing `palette` without assigning `hue` is deprecated and will be removed in v0.14.0. Assign the `x` variable to `hue` and set `legend=False` for the same effect.\n",
            "\n",
            "  sns.barplot(x=funding_per_year.index, y=funding_per_year.values, palette='pastel')\n"
          ]
        },
        {
          "data": {
            "image/png": "[encoded data removed]",
            "text/plain": [
              "<Figure size 1000x500 with 1 Axes>"
            ]
          },
          "metadata": {},
          "output_type": "display_data"
        }
      ],
      "source": [
        "funding_per_year = df.groupby('Year')['amount'].sum()\n",
        "plt.figure(figsize=(10, 5))\n",
        "sns.barplot(x=funding_per_year.index, y=funding_per_year.values, palette='pastel')\n",
        "plt.title('Total Funding Amount Over the Years.')\n",
        "plt.xlabel('Year')\n",
        "plt.ylabel('Total Funding (USD) in billions.')\n",
        "plt.xticks(rotation=45)\n",
        "plt.show()"
      ]
    },
    {
      "cell_type": "markdown",
      "metadata": {
        "id": "cZzPT4t8koB7"
      },
      "source": [
        "As per time based analysis, highest funding is on 2017 and lowest is on 2020."
      ]
    },
    {
      "cell_type": "markdown",
      "metadata": {
        "id": "KFgcv2hK-Z6t"
      },
      "source": [
        "**10.Top 10 funding sectors**"
      ]
    },
    {
      "cell_type": "code",
      "execution_count": 76,
      "metadata": {
        "colab": {
          "base_uri": "https://localhost:8080/",
          "height": 739
        },
        "id": "Y626SAZnkMx1",
        "outputId": "7aabd763-d3b4-4756-c74e-806abb92181f"
      },
      "outputs": [
        {
          "name": "stderr",
          "output_type": "stream",
          "text": [
            "C:\\Users\\Vishnu Gopan\\AppData\\Local\\Temp\\ipykernel_15952\\4072649832.py:4: FutureWarning: \n",
            "\n",
            "Passing `palette` without assigning `hue` is deprecated and will be removed in v0.14.0. Assign the `x` variable to `hue` and set `legend=False` for the same effect.\n",
            "\n",
            "  sns.barplot(x=top_sectors.index, y=top_sectors.values, palette='pastel')\n"
          ]
        },
        {
          "data": {
            "image/png": "[encoded data removed]",
            "text/plain": [
              "<Figure size 1200x600 with 1 Axes>"
            ]
          },
          "metadata": {},
          "output_type": "display_data"
        }
      ],
      "source": [
        "# Most funded sectors\n",
        "top_sectors = df['vertical'].value_counts().head(10)\n",
        "plt.figure(figsize=(12, 6))\n",
        "sns.barplot(x=top_sectors.index, y=top_sectors.values, palette='pastel')\n",
        "plt.title('Top 10 Funded Sectors')\n",
        "plt.xlabel('Sector')\n",
        "plt.ylabel('Number of Fundings')\n",
        "plt.xticks(rotation=45)\n",
        "plt.show()\n"
      ]
    },
    {
      "cell_type": "markdown",
      "metadata": {
        "id": "9m3_DeZIlnht"
      },
      "source": [
        "As per this barplot analysis (internet consumer) is at the top and (Fin Tech) is on the bottom."
      ]
    },
    {
      "cell_type": "markdown",
      "metadata": {
        "id": "BMAcKyxRSN2d"
      },
      "source": [
        "**CONCLUSION**\n",
        "\n",
        "In this project, I utilized the Pandas library to efficiently process and analyze the dataset. By cleaning, transforming, and visualizing the data, I was able to uncover valuable insights. Key steps included handling missing data, performing aggregations, and generating descriptive statistics that highlighted patterns and trends within the dataset.\n",
        "+\n",
        "Key findings\n",
        "\n",
        "> As per my analysis when it's comes to startups Flipkart is the top growing company and it's 100% share holder is \"soft bank\" group. And flipkart is an E-commerce Sector platform.\n",
        "\n",
        "> Most funded sector is \"Consumer Internet\", and there is a total of 364 startups invested in this sector eg:-(Netmeds, Daily hunt, HappyGoEasy, Nykaa, etc....)\n",
        "\n",
        "> Highest funding is on 2017 and lowest is on 2020.\n",
        "\n",
        "Based on this analysis I found that Investing in the e-commerce sector can be an attractive option for those looking to tap into the growing trend of online shopping. The sector has been experiencing rapid growth for several years, and this trend is expected to continue as consumer behavior shifts towards digital platforms.\n",
        "\n",
        "Overall, this project highlights the effectiveness of Pandas for data cleaning, manipulation, and analysis, and provides a solid foundation for more complex analytical tasks."
      ]
    }
  ],
  "metadata": {
    "colab": {
      "provenance": [],
      "toc_visible": true
    },
    "kernelspec": {
      "display_name": "Python 3",
      "name": "python3"
    },
    "language_info": {
      "codemirror_mode": {
        "name": "ipython",
        "version": 3
      },
      "file_extension": ".py",
      "mimetype": "text/x-python",
      "name": "python",
      "nbconvert_exporter": "python",
      "pygments_lexer": "ipython3",
      "version": "3.12.4"
    }
  },
  "nbformat": 4,
  "nbformat_minor": 0
}
